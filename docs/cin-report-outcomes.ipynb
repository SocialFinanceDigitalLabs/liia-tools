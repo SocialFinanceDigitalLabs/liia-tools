{
 "cells": [
  {
   "cell_type": "markdown",
   "id": "83d121c0-a9a1-45f2-ae03-2f4fedab0acc",
   "metadata": {},
   "source": [
    "# Referral Outcomes\n",
    "\n",
    "With this report we want to examine referral outcomes, in particular with regards to Sections 17 and 47 of the Children Act 1989:\n",
    "\n",
    "## Section 17 (S17) of the Children Act 1989:\n",
    "\n",
    "This section pertains to the provision of services to children in need, which includes their families and others.\n",
    "\n",
    "Local authorities have a general duty to safeguard and promote the welfare of children within their area who are in need and to promote the upbringing of such children, wherever possible, by their families through providing a range of services appropriate to those children's needs.\n",
    "\n",
    "\"Children in need\" are defined as children who:\n",
    "a. Are unlikely to achieve or maintain a reasonable level of health or development without the provision of services; or\n",
    "b. Their health or development is likely to be significantly impaired, or further impaired, without the provision of such services; or\n",
    "c. Are disabled.\n",
    "\n",
    "## Section 47 (S47) of the Children Act 1989:\n",
    "\n",
    "This section relates to local authorities' duty to investigate situations where there is a reason to suspect that a child living in their area is suffering, or is likely to suffer, significant harm. \"Significant harm\" is a key concept in child protection and can encompass a wide range of adverse experiences, including neglect, physical, emotional, or sexual abuse.\n",
    "\n",
    "Where they have reasonable cause to suspect that a child who lives or is found in their area is suffering or likely to suffer significant harm, the authority is required to make inquiries (or cause inquiries to be made) to decide whether they should take action to safeguard or promote the child's welfare.\n",
    "\n",
    "These inquiries may lead to a child protection conference, where professionals come together to discuss concerns and decide on future actions, which may include a child protection plan.\n",
    "\n",
    "In the CIN Census data (abbreviated to only the fields we consider here for clarity), this will look like:\n",
    "```\n",
    "<CINdetails>\n",
    "    <CINreferralDate>1970-10-06</CINreferralDate>\n",
    "    <Assessments>\n",
    "        <AssessmentActualStartDate>1970-06-03</AssessmentActualStartDate>\n",
    "    </Assessments>\n",
    "    <Section47>\n",
    "        <S47ActualStartDate>1970-06-02</S47ActualStartDate>\n",
    "    </Section47>\n",
    "</CINdetails\n",
    "```\n",
    "\n",
    "The \"flatfile\" ingest we provide of this report, creates an \"event\" based log of this file (again we have left out columns for clarity):\n",
    "\n",
    "| LAchildID   | Date       | Type                        | CINreferralDate   | AssessmentActualStartDate   | CPPstartDate   |\n",
    "|:------------|:-----------|:----------------------------|:------------------|:----------------------------|:---------------|\n",
    "| DfEX0000001 | 1970-10-06 | CINreferralDate             | 1970-10-06        | nan                         | nan            |\n",
    "| DfEX0000001 | 1971-02-27 | CINclosureDate              | 1970-10-06        | nan                         | nan            |\n",
    "| DfEX0000001 | 1970-06-03 | AssessmentActualStartDate   | 1970-10-06        | 1970-06-03                  | nan            |\n",
    "| DfEX0000001 | 1971-07-18 | AssessmentAuthorisationDate | 1970-10-06        | 1970-06-03                  | nan            |\n",
    "| DfEX0000001 | 1971-01-24 | CINPlanStartDate            | 1970-10-06        | nan                         | nan            |\n",
    "| DfEX0000001 | 1971-01-26 | CINPlanEndDate              | 1970-10-06        | nan                         | nan            |\n",
    "| DfEX0000001 | 1970-06-02 | S47ActualStartDate          | 1970-10-06        | nan                         | nan            |\n",
    "| DfEX0000001 | 1970-02-17 | CPPstartDate                | 1970-10-06        | nan                         | 1970-02-17     |\n",
    "| DfEX0000001 | 1971-03-14 | CPPendDate                  | 1970-10-06        | nan                         | 1970-02-17     |\n",
    "| DfEX0000001 | 1971-02-15 | CPPreviewDate               | 1970-10-06        | nan                         | 1970-02-17     |\n",
    "\n",
    "With this report we want to clarify the length it takes from referral to a child assessment and/or S47 inquiry. "
   ]
  },
  {
   "cell_type": "code",
   "execution_count": 1,
   "id": "085aa2d2-2c33-43c9-b916-0d9bfd09c1f8",
   "metadata": {},
   "outputs": [],
   "source": [
    "import pandas as pd\n",
    "import numpy as np\n",
    "import io"
   ]
  },
  {
   "cell_type": "markdown",
   "id": "c1322a08-3f3a-4b36-9010-92aa003b8532",
   "metadata": {},
   "source": [
    "We start by loading some sample data"
   ]
  },
  {
   "cell_type": "code",
   "execution_count": 2,
   "id": "fc890675-397c-4feb-abf7-3859b4add5fb",
   "metadata": {},
   "outputs": [
    {
     "data": {
      "text/html": [
       "<div>\n",
       "<style scoped>\n",
       "    .dataframe tbody tr th:only-of-type {\n",
       "        vertical-align: middle;\n",
       "    }\n",
       "\n",
       "    .dataframe tbody tr th {\n",
       "        vertical-align: top;\n",
       "    }\n",
       "\n",
       "    .dataframe thead th {\n",
       "        text-align: right;\n",
       "    }\n",
       "</style>\n",
       "<table border=\"1\" class=\"dataframe\">\n",
       "  <thead>\n",
       "    <tr style=\"text-align: right;\">\n",
       "      <th></th>\n",
       "      <th>LAchildID</th>\n",
       "      <th>Date</th>\n",
       "      <th>Type</th>\n",
       "      <th>CINreferralDate</th>\n",
       "      <th>ReferralSource</th>\n",
       "      <th>PrimaryNeedCode</th>\n",
       "      <th>CINclosureDate</th>\n",
       "      <th>ReasonForClosure</th>\n",
       "      <th>DateOfInitialCPC</th>\n",
       "      <th>ReferralNFA</th>\n",
       "      <th>...</th>\n",
       "      <th>UPN</th>\n",
       "      <th>FormerUPN</th>\n",
       "      <th>UPNunknown</th>\n",
       "      <th>PersonBirthDate</th>\n",
       "      <th>ExpectedPersonBirthDate</th>\n",
       "      <th>GenderCurrent</th>\n",
       "      <th>PersonDeathDate</th>\n",
       "      <th>PersonSchoolYear</th>\n",
       "      <th>Ethnicity</th>\n",
       "      <th>Disabilities</th>\n",
       "    </tr>\n",
       "  </thead>\n",
       "  <tbody>\n",
       "    <tr>\n",
       "      <th>0</th>\n",
       "      <td>DfEX0000001</td>\n",
       "      <td>1970-10-06</td>\n",
       "      <td>CINreferralDate</td>\n",
       "      <td>1970-10-06</td>\n",
       "      <td>1A</td>\n",
       "      <td>N4</td>\n",
       "      <td>1971-02-27</td>\n",
       "      <td>RC1</td>\n",
       "      <td>1970-12-06</td>\n",
       "      <td>0</td>\n",
       "      <td>...</td>\n",
       "      <td>A123456789123</td>\n",
       "      <td>X98765432123B</td>\n",
       "      <td>UN3</td>\n",
       "      <td>1966-03-24</td>\n",
       "      <td>1966-03-22</td>\n",
       "      <td>1</td>\n",
       "      <td>1980-10-08</td>\n",
       "      <td>NaN</td>\n",
       "      <td>WBRI</td>\n",
       "      <td>HAND,HEAR</td>\n",
       "    </tr>\n",
       "  </tbody>\n",
       "</table>\n",
       "<p>1 rows × 34 columns</p>\n",
       "</div>"
      ],
      "text/plain": [
       "     LAchildID       Date             Type CINreferralDate ReferralSource  \\\n",
       "0  DfEX0000001 1970-10-06  CINreferralDate      1970-10-06             1A   \n",
       "\n",
       "  PrimaryNeedCode CINclosureDate ReasonForClosure DateOfInitialCPC  \\\n",
       "0              N4     1971-02-27              RC1       1970-12-06   \n",
       "\n",
       "   ReferralNFA  ...            UPN      FormerUPN UPNunknown PersonBirthDate  \\\n",
       "0            0  ...  A123456789123  X98765432123B        UN3      1966-03-24   \n",
       "\n",
       "   ExpectedPersonBirthDate GenderCurrent PersonDeathDate PersonSchoolYear  \\\n",
       "0               1966-03-22             1      1980-10-08              NaN   \n",
       "\n",
       "  Ethnicity Disabilities  \n",
       "0      WBRI    HAND,HEAR  \n",
       "\n",
       "[1 rows x 34 columns]"
      ]
     },
     "execution_count": 2,
     "metadata": {},
     "output_type": "execute_result"
    }
   ],
   "source": [
    "data = \"\"\"\n",
    "LAchildID,Date,Type,CINreferralDate,ReferralSource,PrimaryNeedCode,CINclosureDate,ReasonForClosure,DateOfInitialCPC,ReferralNFA,CINPlanStartDate,CINPlanEndDate,S47ActualStartDate,InitialCPCtarget,ICPCnotRequired,AssessmentActualStartDate,AssessmentInternalReviewDate,AssessmentAuthorisationDate,Factors,CPPstartDate,CPPendDate,InitialCategoryOfAbuse,LatestCategoryOfAbuse,NumberOfPreviousCPP,UPN,FormerUPN,UPNunknown,PersonBirthDate,ExpectedPersonBirthDate,GenderCurrent,PersonDeathDate,PersonSchoolYear,Ethnicity,Disabilities\n",
    "DfEX0000001,1970-10-06,CINreferralDate,1970-10-06,1A,N4,1971-02-27,RC1,1970-12-06,0,,,,,,,,,,,,,,,A123456789123,X98765432123B,UN3,1966-03-24,1966-03-22,1,1980-10-08,,WBRI,\"HAND,HEAR\"\n",
    "DfEX0000001,1971-02-27,CINclosureDate,1970-10-06,1A,N4,1971-02-27,RC1,1970-12-06,0,,,,,,,,,,,,,,,A123456789123,X98765432123B,UN3,1966-03-24,1966-03-22,1,1980-10-08,,WBRI,\"HAND,HEAR\"\n",
    "DfEX0000001,1970-06-03,AssessmentActualStartDate,1970-10-06,1A,N4,1971-02-27,RC1,1970-12-06,0,,,,,,1970-06-03,1970-06-22,1971-07-18,\"2A,2B\",,,,,,A123456789123,X98765432123B,UN3,1966-03-24,1966-03-22,1,1980-10-08,,WBRI,\"HAND,HEAR\"\n",
    "DfEX0000001,1971-07-18,AssessmentAuthorisationDate,1970-10-06,1A,N4,1971-02-27,RC1,1970-12-06,0,,,,,,1970-06-03,1970-06-22,1971-07-18,\"2A,2B\",,,,,,A123456789123,X98765432123B,UN3,1966-03-24,1966-03-22,1,1980-10-08,,WBRI,\"HAND,HEAR\"\n",
    "DfEX0000001,1971-01-24,CINPlanStartDate,1970-10-06,1A,N4,1971-02-27,RC1,1970-12-06,0,1971-01-24,1971-01-26,,,,,,,,,,,,,A123456789123,X98765432123B,UN3,1966-03-24,1966-03-22,1,1980-10-08,,WBRI,\"HAND,HEAR\"\n",
    "DfEX0000001,1971-01-26,CINPlanEndDate,1970-10-06,1A,N4,1971-02-27,RC1,1970-12-06,0,1971-01-24,1971-01-26,,,,,,,,,,,,,A123456789123,X98765432123B,UN3,1966-03-24,1966-03-22,1,1980-10-08,,WBRI,\"HAND,HEAR\"\n",
    "DfEX0000001,1970-06-02,S47ActualStartDate,1970-10-06,1A,N4,1971-02-27,RC1,1970-06-17,0,,,1970-06-02,1970-06-23,0,,,,,,,,,,A123456789123,X98765432123B,UN3,1966-03-24,1966-03-22,1,1980-10-08,,WBRI,\"HAND,HEAR\"\n",
    "DfEX0000001,1970-02-17,CPPstartDate,1970-10-06,1A,N4,1971-02-27,RC1,1970-12-06,0,,,,,,,,,,1970-02-17,1971-03-14,PHY,PHY,10,A123456789123,X98765432123B,UN3,1966-03-24,1966-03-22,1,1980-10-08,,WBRI,\"HAND,HEAR\"\n",
    "DfEX0000001,1971-03-14,CPPendDate,1970-10-06,1A,N4,1971-02-27,RC1,1970-12-06,0,,,,,,,,,,1970-02-17,1971-03-14,PHY,PHY,10,A123456789123,X98765432123B,UN3,1966-03-24,1966-03-22,1,1980-10-08,,WBRI,\"HAND,HEAR\"\n",
    "DfEX0000001,1971-02-15,CPPreviewDate,1970-10-06,1A,N4,1971-02-27,RC1,1970-12-06,0,,,,,,,,,,1970-02-17,1971-03-14,PHY,PHY,10,A123456789123,X98765432123B,UN3,1966-03-24,1966-03-22,1,1980-10-08,,WBRI,\"HAND,HEAR\"\n",
    "\"\"\".strip()\n",
    "data = pd.read_csv(io.StringIO(data), parse_dates=[\n",
    "    'Date', 'CINreferralDate', 'CINclosureDate', 'DateOfInitialCPC', \n",
    "    'CINPlanStartDate', 'CINPlanEndDate', 'S47ActualStartDate', 'InitialCPCtarget',\n",
    "    'AssessmentActualStartDate', 'AssessmentInternalReviewDate', 'AssessmentAuthorisationDate',\n",
    "    'CPPstartDate', 'CPPendDate',\n",
    "    'PersonBirthDate', 'ExpectedPersonBirthDate', 'PersonDeathDate'\n",
    "])\n",
    "data.head(n=1)"
   ]
  },
  {
   "cell_type": "markdown",
   "id": "f45711d9-fef9-4dc3-ac2a-a434b246be14",
   "metadata": {},
   "source": [
    "So based on the big \"wide\" format, we can narrow things down to the few columns we are interested in. In terms of reports, each referral consists of a unique combination of LAchildID and CINreferralDate, and below that there will be a unique AssessmentActualStartDate for S17 Assessment or S47ActualStartDate for S47 Inquiry.\n",
    "\n",
    "Starting with S17, let's find the unique combinations of those fields, and calculate the duration between referral and assessment:"
   ]
  },
  {
   "cell_type": "code",
   "execution_count": 3,
   "id": "367c6d33-c235-450b-8452-b8cf2c4b1aca",
   "metadata": {},
   "outputs": [
    {
     "data": {
      "text/html": [
       "<div>\n",
       "<style scoped>\n",
       "    .dataframe tbody tr th:only-of-type {\n",
       "        vertical-align: middle;\n",
       "    }\n",
       "\n",
       "    .dataframe tbody tr th {\n",
       "        vertical-align: top;\n",
       "    }\n",
       "\n",
       "    .dataframe thead th {\n",
       "        text-align: right;\n",
       "    }\n",
       "</style>\n",
       "<table border=\"1\" class=\"dataframe\">\n",
       "  <thead>\n",
       "    <tr style=\"text-align: right;\">\n",
       "      <th></th>\n",
       "      <th>LAchildID</th>\n",
       "      <th>CINreferralDate</th>\n",
       "      <th>AssessmentActualStartDate</th>\n",
       "      <th>days_to_s17</th>\n",
       "    </tr>\n",
       "  </thead>\n",
       "  <tbody>\n",
       "    <tr>\n",
       "      <th>2</th>\n",
       "      <td>DfEX0000001</td>\n",
       "      <td>1970-10-06</td>\n",
       "      <td>1970-06-03</td>\n",
       "      <td>125</td>\n",
       "    </tr>\n",
       "  </tbody>\n",
       "</table>\n",
       "</div>"
      ],
      "text/plain": [
       "     LAchildID CINreferralDate AssessmentActualStartDate  days_to_s17\n",
       "2  DfEX0000001      1970-10-06                1970-06-03          125"
      ]
     },
     "execution_count": 3,
     "metadata": {},
     "output_type": "execute_result"
    }
   ],
   "source": [
    "s17_dates = data[data[\"AssessmentActualStartDate\"].notna()][[\"LAchildID\", \"CINreferralDate\", \"AssessmentActualStartDate\"]].drop_duplicates()\n",
    "s17_dates[\"days_to_s17\"] = s17_dates[\"CINreferralDate\"] - s17_dates[\"AssessmentActualStartDate\"]\n",
    "s17_dates[\"days_to_s17\"] = s17_dates[\"days_to_s17\"].dt.days\n",
    "\n",
    "# Remove any that are less than zero - it shouldn't happen, but just in case\n",
    "s17_dates = s17_dates[s17_dates[\"days_to_s17\"] >= 0]\n",
    "\n",
    "s17_dates"
   ]
  },
  {
   "cell_type": "markdown",
   "id": "169d1673-b8c0-47ca-b1bc-1e18c4a4073a",
   "metadata": {},
   "source": [
    "We can do exactly the same for S47:"
   ]
  },
  {
   "cell_type": "code",
   "execution_count": 4,
   "id": "4eabff9b-2246-4edd-9c87-ddeadc583958",
   "metadata": {},
   "outputs": [
    {
     "data": {
      "text/html": [
       "<div>\n",
       "<style scoped>\n",
       "    .dataframe tbody tr th:only-of-type {\n",
       "        vertical-align: middle;\n",
       "    }\n",
       "\n",
       "    .dataframe tbody tr th {\n",
       "        vertical-align: top;\n",
       "    }\n",
       "\n",
       "    .dataframe thead th {\n",
       "        text-align: right;\n",
       "    }\n",
       "</style>\n",
       "<table border=\"1\" class=\"dataframe\">\n",
       "  <thead>\n",
       "    <tr style=\"text-align: right;\">\n",
       "      <th></th>\n",
       "      <th>LAchildID</th>\n",
       "      <th>CINreferralDate</th>\n",
       "      <th>S47ActualStartDate</th>\n",
       "      <th>days_to_s47</th>\n",
       "    </tr>\n",
       "  </thead>\n",
       "  <tbody>\n",
       "    <tr>\n",
       "      <th>6</th>\n",
       "      <td>DfEX0000001</td>\n",
       "      <td>1970-10-06</td>\n",
       "      <td>1970-06-02</td>\n",
       "      <td>126</td>\n",
       "    </tr>\n",
       "  </tbody>\n",
       "</table>\n",
       "</div>"
      ],
      "text/plain": [
       "     LAchildID CINreferralDate S47ActualStartDate  days_to_s47\n",
       "6  DfEX0000001      1970-10-06         1970-06-02          126"
      ]
     },
     "execution_count": 4,
     "metadata": {},
     "output_type": "execute_result"
    }
   ],
   "source": [
    "s47_dates = data[data[\"S47ActualStartDate\"].notna()][[\"LAchildID\", \"CINreferralDate\", \"S47ActualStartDate\"]].drop_duplicates()\n",
    "s47_dates[\"days_to_s47\"] = s47_dates[\"CINreferralDate\"] - s47_dates[\"S47ActualStartDate\"]\n",
    "s47_dates[\"days_to_s47\"] = s47_dates[\"days_to_s47\"].dt.days\n",
    "\n",
    "# Remove any that are less than zero - it shouldn't happen, but just in case\n",
    "s47_dates = s47_dates[s47_dates[\"days_to_s47\"] >= 0]\n",
    "\n",
    "s47_dates"
   ]
  },
  {
   "cell_type": "markdown",
   "id": "8f480403-eab3-441c-ba49-a9823d8cafe9",
   "metadata": {},
   "source": [
    "We can now merge these back with the CIN record. Since we want to see referrals that led to neither S17 or S47, we create a unique view of all referrals as a base to merge the others into:"
   ]
  },
  {
   "cell_type": "code",
   "execution_count": 5,
   "id": "6e95b6c5-cd75-4b03-8f60-f42690433e37",
   "metadata": {},
   "outputs": [
    {
     "data": {
      "text/html": [
       "<div>\n",
       "<style scoped>\n",
       "    .dataframe tbody tr th:only-of-type {\n",
       "        vertical-align: middle;\n",
       "    }\n",
       "\n",
       "    .dataframe tbody tr th {\n",
       "        vertical-align: top;\n",
       "    }\n",
       "\n",
       "    .dataframe thead th {\n",
       "        text-align: right;\n",
       "    }\n",
       "</style>\n",
       "<table border=\"1\" class=\"dataframe\">\n",
       "  <thead>\n",
       "    <tr style=\"text-align: right;\">\n",
       "      <th></th>\n",
       "      <th>LAchildID</th>\n",
       "      <th>CINreferralDate</th>\n",
       "      <th>AssessmentActualStartDate</th>\n",
       "      <th>days_to_s17</th>\n",
       "      <th>S47ActualStartDate</th>\n",
       "      <th>days_to_s47</th>\n",
       "    </tr>\n",
       "  </thead>\n",
       "  <tbody>\n",
       "    <tr>\n",
       "      <th>0</th>\n",
       "      <td>DfEX0000001</td>\n",
       "      <td>1970-10-06</td>\n",
       "      <td>1970-06-03</td>\n",
       "      <td>125</td>\n",
       "      <td>1970-06-02</td>\n",
       "      <td>126</td>\n",
       "    </tr>\n",
       "  </tbody>\n",
       "</table>\n",
       "</div>"
      ],
      "text/plain": [
       "     LAchildID CINreferralDate AssessmentActualStartDate  days_to_s17  \\\n",
       "0  DfEX0000001      1970-10-06                1970-06-03          125   \n",
       "\n",
       "  S47ActualStartDate  days_to_s47  \n",
       "0         1970-06-02          126  "
      ]
     },
     "execution_count": 5,
     "metadata": {},
     "output_type": "execute_result"
    }
   ],
   "source": [
    "merged = data[[\"LAchildID\", \"CINreferralDate\"]].drop_duplicates()\n",
    "merged = merged.merge(s17_dates, how=\"left\", on=[\"LAchildID\", \"CINreferralDate\"])\n",
    "merged = merged.merge(s47_dates, how=\"left\", on=[\"LAchildID\", \"CINreferralDate\"])\n",
    "merged"
   ]
  },
  {
   "cell_type": "markdown",
   "id": "b8cd0b8c-363e-4b0c-829e-770a20a58fbe",
   "metadata": {},
   "source": [
    "Finally, we add a \"referral_outcome\" giving us one of NFA, S17, S47 or BOTH depending on which records were found. "
   ]
  },
  {
   "cell_type": "code",
   "execution_count": 6,
   "id": "9f88430f-5d74-4b75-89b1-17a9f82275f8",
   "metadata": {},
   "outputs": [
    {
     "data": {
      "text/html": [
       "<div>\n",
       "<style scoped>\n",
       "    .dataframe tbody tr th:only-of-type {\n",
       "        vertical-align: middle;\n",
       "    }\n",
       "\n",
       "    .dataframe tbody tr th {\n",
       "        vertical-align: top;\n",
       "    }\n",
       "\n",
       "    .dataframe thead th {\n",
       "        text-align: right;\n",
       "    }\n",
       "</style>\n",
       "<table border=\"1\" class=\"dataframe\">\n",
       "  <thead>\n",
       "    <tr style=\"text-align: right;\">\n",
       "      <th></th>\n",
       "      <th>LAchildID</th>\n",
       "      <th>CINreferralDate</th>\n",
       "      <th>AssessmentActualStartDate</th>\n",
       "      <th>days_to_s17</th>\n",
       "      <th>S47ActualStartDate</th>\n",
       "      <th>days_to_s47</th>\n",
       "      <th>referral_outcome</th>\n",
       "    </tr>\n",
       "  </thead>\n",
       "  <tbody>\n",
       "    <tr>\n",
       "      <th>0</th>\n",
       "      <td>DfEX0000001</td>\n",
       "      <td>1970-10-06</td>\n",
       "      <td>1970-06-03</td>\n",
       "      <td>125</td>\n",
       "      <td>1970-06-02</td>\n",
       "      <td>126</td>\n",
       "      <td>BOTH</td>\n",
       "    </tr>\n",
       "  </tbody>\n",
       "</table>\n",
       "</div>"
      ],
      "text/plain": [
       "     LAchildID CINreferralDate AssessmentActualStartDate  days_to_s17  \\\n",
       "0  DfEX0000001      1970-10-06                1970-06-03          125   \n",
       "\n",
       "  S47ActualStartDate  days_to_s47 referral_outcome  \n",
       "0         1970-06-02          126             BOTH  "
      ]
     },
     "execution_count": 6,
     "metadata": {},
     "output_type": "execute_result"
    }
   ],
   "source": [
    "neither = merged['AssessmentActualStartDate'].isna() & merged['S47ActualStartDate'].isna()\n",
    "s17_set = merged['AssessmentActualStartDate'].notna() & merged['S47ActualStartDate'].isna()\n",
    "s47_set = merged['AssessmentActualStartDate'].isna() & merged['S47ActualStartDate'].notna()\n",
    "both_set = merged['AssessmentActualStartDate'].notna() & merged['S47ActualStartDate'].notna()\n",
    "\n",
    "merged['referral_outcome'] = np.select([neither, s17_set, s47_set, both_set], ['NFA', 'S17', 'S47', 'BOTH'], default=None)\n",
    "merged"
   ]
  },
  {
   "cell_type": "markdown",
   "id": "d8827b83-e4a8-42a7-8b88-5aa4d6bc3c19",
   "metadata": {},
   "source": [
    "We can import and run this as a report:"
   ]
  },
  {
   "cell_type": "code",
   "execution_count": 8,
   "id": "4b835541-e068-4996-b89b-d1566e31424a",
   "metadata": {},
   "outputs": [
    {
     "data": {
      "text/html": [
       "<div>\n",
       "<style scoped>\n",
       "    .dataframe tbody tr th:only-of-type {\n",
       "        vertical-align: middle;\n",
       "    }\n",
       "\n",
       "    .dataframe tbody tr th {\n",
       "        vertical-align: top;\n",
       "    }\n",
       "\n",
       "    .dataframe thead th {\n",
       "        text-align: right;\n",
       "    }\n",
       "</style>\n",
       "<table border=\"1\" class=\"dataframe\">\n",
       "  <thead>\n",
       "    <tr style=\"text-align: right;\">\n",
       "      <th></th>\n",
       "      <th>LAchildID</th>\n",
       "      <th>CINreferralDate</th>\n",
       "      <th>AssessmentActualStartDate</th>\n",
       "      <th>days_to_s17</th>\n",
       "      <th>S47ActualStartDate</th>\n",
       "      <th>days_to_s47</th>\n",
       "      <th>referral_outcome</th>\n",
       "    </tr>\n",
       "  </thead>\n",
       "  <tbody>\n",
       "    <tr>\n",
       "      <th>0</th>\n",
       "      <td>DfEX0000001</td>\n",
       "      <td>1970-10-06</td>\n",
       "      <td>1970-06-03</td>\n",
       "      <td>125</td>\n",
       "      <td>1970-06-02</td>\n",
       "      <td>126</td>\n",
       "      <td>BOTH</td>\n",
       "    </tr>\n",
       "  </tbody>\n",
       "</table>\n",
       "</div>"
      ],
      "text/plain": [
       "     LAchildID CINreferralDate AssessmentActualStartDate  days_to_s17  \\\n",
       "0  DfEX0000001      1970-10-06                1970-06-03          125   \n",
       "\n",
       "  S47ActualStartDate  days_to_s47 referral_outcome  \n",
       "0         1970-06-02          126             BOTH  "
      ]
     },
     "execution_count": 8,
     "metadata": {},
     "output_type": "execute_result"
    }
   ],
   "source": [
    "from liiatools.cin_census_pipeline.reports import referral_outcomes\n",
    "\n",
    "referral_outcomes(data)"
   ]
  }
 ],
 "metadata": {
  "kernelspec": {
   "display_name": "Python 3 (ipykernel)",
   "language": "python",
   "name": "python3"
  },
  "language_info": {
   "codemirror_mode": {
    "name": "ipython",
    "version": 3
   },
   "file_extension": ".py",
   "mimetype": "text/x-python",
   "name": "python",
   "nbconvert_exporter": "python",
   "pygments_lexer": "ipython3",
   "version": "3.9.17"
  }
 },
 "nbformat": 4,
 "nbformat_minor": 5
}
